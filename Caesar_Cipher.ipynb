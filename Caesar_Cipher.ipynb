{
  "nbformat": 4,
  "nbformat_minor": 0,
  "metadata": {
    "colab": {
      "name": "Caesar_Cipher.ipynb",
      "provenance": [],
      "collapsed_sections": []
    },
    "kernelspec": {
      "name": "python3",
      "display_name": "Python 3"
    },
    "language_info": {
      "name": "python"
    }
  },
  "cells": [
    {
      "cell_type": "code",
      "metadata": {
        "id": "1Mhy68OcvtOs"
      },
      "source": [
        "# Adventure on cripto\n",
        "# Caesar_Cipher, or ROT-x, with x=key.\n",
        "# by Paulo Francisco "
      ],
      "execution_count": null,
      "outputs": []
    },
    {
      "cell_type": "code",
      "metadata": {
        "id": "qhxYuYLLv0hJ"
      },
      "source": [
        "# Peguei da net tava em lista\n",
        "alfabeto = ['a', 'b', 'c', 'd', 'e', 'f', 'g', 'h', 'i', 'j', 'k', 'l', 'm', 'n', 'o', 'p', 'q', 'r', 's', 't', 'u', 'v', 'w', 'x', 'y', 'z']\n",
        "# Então transformei em string\n",
        "alfabeto=\"\".join(alfabeto)"
      ],
      "execution_count": null,
      "outputs": []
    },
    {
      "cell_type": "code",
      "metadata": {
        "id": "MslEy54s1lPs"
      },
      "source": [
        "#Criptografar\n",
        "def encodeCesar(text,key):\n",
        "  text=text.lower()\n",
        "  cripted=[]\n",
        "  for n in text:\n",
        "    while ((alfabeto.rfind(n)+key)>=26):\n",
        "      key-=26\n",
        "    if (str.isalpha(n)):\n",
        "      cripted.append(alfabeto[alfabeto.rfind(n)+key])\n",
        "    else:\n",
        "      cripted.append(n)\n",
        "  return \"\".join(cripted)"
      ],
      "execution_count": null,
      "outputs": []
    },
    {
      "cell_type": "code",
      "metadata": {
        "colab": {
          "base_uri": "https://localhost:8080/",
          "height": 35
        },
        "id": "w-BgdnXK2Zqj",
        "outputId": "a598dbc2-af92-4c71-efe2-1ff66da28609"
      },
      "source": [
        "encodeCesar(\"paulo\",2)"
      ],
      "execution_count": null,
      "outputs": [
        {
          "output_type": "execute_result",
          "data": {
            "application/vnd.google.colaboratory.intrinsic+json": {
              "type": "string"
            },
            "text/plain": [
              "'rcwnq'"
            ]
          },
          "metadata": {},
          "execution_count": 137
        }
      ]
    },
    {
      "cell_type": "code",
      "metadata": {
        "id": "xscAT-4_7ro7"
      },
      "source": [
        "#Descriptografar\n",
        "def decodeCesar(text,key):\n",
        "  text=text.lower()\n",
        "  cripted=[]\n",
        "  for n in text:\n",
        "    while ((key)>=26):\n",
        "      key-=26\n",
        "    if (str.isalpha(n)):\n",
        "      cripted.append(alfabeto[alfabeto.rfind(n)-key])\n",
        "    else:\n",
        "      cripted.append(n)\n",
        "  return \"\".join(cripted)"
      ],
      "execution_count": null,
      "outputs": []
    },
    {
      "cell_type": "code",
      "metadata": {
        "colab": {
          "base_uri": "https://localhost:8080/",
          "height": 35
        },
        "id": "nbQoaQ_k9rpy",
        "outputId": "6d528b37-13bc-49f7-dd36-7b73322d8175"
      },
      "source": [
        "decodeCesar(\"rcwnq\",2)"
      ],
      "execution_count": null,
      "outputs": [
        {
          "output_type": "execute_result",
          "data": {
            "application/vnd.google.colaboratory.intrinsic+json": {
              "type": "string"
            },
            "text/plain": [
              "'paulo'"
            ]
          },
          "metadata": {},
          "execution_count": 140
        }
      ]
    },
    {
      "cell_type": "code",
      "metadata": {
        "id": "xtW_2YjU908i"
      },
      "source": [
        ""
      ],
      "execution_count": null,
      "outputs": []
    }
  ]
}