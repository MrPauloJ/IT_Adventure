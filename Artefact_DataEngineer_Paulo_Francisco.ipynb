{
  "nbformat": 4,
  "nbformat_minor": 0,
  "metadata": {
    "colab": {
      "name": "Artefact_DataEngineer_Paulo_Francisco.ipynb",
      "provenance": [],
      "collapsed_sections": []
    },
    "kernelspec": {
      "name": "python3",
      "display_name": "Python 3"
    },
    "language_info": {
      "name": "python"
    }
  },
  "cells": [
    {
      "cell_type": "code",
      "source": [
        "# Paulo Francisco da Silva Junior - Data/Software Engineer - Junior \n",
        "# Artefact Application"
      ],
      "metadata": {
        "id": "5x9VIPwm-Fur"
      },
      "execution_count": null,
      "outputs": []
    },
    {
      "cell_type": "code",
      "source": [
        "import matplotlib.pyplot as plt"
      ],
      "metadata": {
        "id": "4oet0Wfv-ILK"
      },
      "execution_count": 1,
      "outputs": []
    },
    {
      "cell_type": "markdown",
      "source": [
        "Problem 1: Polygon Optimisation\n",
        "\n",
        "Let us consider the following set of points : \n",
        "\n",
        "points = [(1, 1), (1, 2), (1, 3), (2, 3), (2, 4), (3, 4), (3, 3), (3,2), (2,2), (2,1), (1,1)]\n",
        "\n",
        "This set of points defines the Polygon"
      ],
      "metadata": {
        "id": "ZqO85raC4L6H"
      }
    },
    {
      "cell_type": "markdown",
      "source": [
        "The goal of the exercise is to reduce the previous set of points in order to \n",
        "keep the necessary points to draw the same Polygon.\n",
        "\n",
        "a) Find the points that are not needed to draw the Polygon and explain why."
      ],
      "metadata": {
        "id": "xagnDLj-4X-p"
      }
    },
    {
      "cell_type": "markdown",
      "source": [
        "We should remove (1,2) cause already exists a line made by (1,1) and (1,3), then we can simplify the connection.\n",
        "\n",
        "The same happens with (3,3) point.\n",
        "\n",
        "The idea is: if we have three points on a line, the middle one can be removed.\n",
        "\n",
        "New array of point should be like:\n",
        "points = [(1, 1), (1, 3), (2, 3), (2, 4), (3, 4), (3,2), (2,2), (2,1), (1,1)]"
      ],
      "metadata": {
        "id": "OvJiEuCE_qDG"
      }
    },
    {
      "cell_type": "code",
      "execution_count": 2,
      "metadata": {
        "id": "IzOXTva8-Cor"
      },
      "outputs": [],
      "source": [
        "points = [(1, 1), (1, 2), (1, 3), (2, 3), (2, 4), (3, 4), (3, 3), (3,2), (2,2), (2,1), (1,1)]"
      ]
    },
    {
      "cell_type": "markdown",
      "source": [
        "b) Write a function that given a Polygon's path of points returns a reduced list that defines the same Polygon. \n",
        "\n",
        "(Notice that all the points in the set are adjacents).\n",
        "\n",
        "Choose the language you want to answer this question, and comment the code explaining each step. \n",
        "Don’t worry about sintaxes"
      ],
      "metadata": {
        "id": "mi2aZqth4tVP"
      }
    },
    {
      "cell_type": "code",
      "source": [
        "def optmize(points=None):\n",
        "  # Normalizing list to print in python\n",
        "  x=list()\n",
        "  y=list()\n",
        "  \n",
        "  # Adding point x and y in separated lists\n",
        "  for i in range(0,len(points)):\n",
        "    x.append(points[i][0])\n",
        "    y.append(points[i][1])\n",
        "\n",
        "  # Run over lists to find points which are redudants\n",
        "  for i in range(2,len(x),1):\n",
        "    \n",
        "    # For the same point in X, check if exist a despicable point in an ascendent Y and remove it.\n",
        "    if ((x[i]==x[i-1]) and (x[i-1]==x[i-2])):\n",
        "      if ((y[i]>y[i-1]) and (y[i-1]>y[i-2])):\n",
        "        x.pop(i-1)\n",
        "        y.pop(i-1)\n",
        "\n",
        "    # For the same point in X, check if exist a despicable point in an descendent Y and remove it.\n",
        "    if ((x[i]==x[i-1]) and (x[i-1]==x[i-2])):\n",
        "      if ((y[i]<y[i-1]) and (y[i-1]<y[i-2])):\n",
        "        x.pop(i-1)\n",
        "        y.pop(i-1)\n",
        "\n",
        "    # For the same point in Y, check if exist a despicable point in an ascendent X and remove it.\n",
        "    if ((y[i]==y[i-1]) and (y[i-1]==y[i-2])):\n",
        "      if ((x[i]>x[i-1]) and (x[i-1]>x[i-2])):\n",
        "        x.pop(i-1)\n",
        "        y.pop(i-1)\n",
        "\n",
        "    # For the same point in Y, check if exist a despicable point in an descendent X and remove it.\n",
        "    if ((x[i]==x[i-1]) and (x[i-1]==x[i-2])):\n",
        "      if ((y[i]<y[i-1]) and (y[i-1]<y[i-2])):\n",
        "        x.pop(i-1)\n",
        "        y.pop(i-1)\n",
        "    \n",
        "    # Checking if there is one point in a no 90 degree line\n",
        "    # For X, check if exist a despicable point in an ascendent Y and remove it.\n",
        "    if((x[i]>x[i-1]) and (x[i]<x[i+1]) and (y[i]>y[i-1]) and (y[i]<y[i+1])):\n",
        "      x.pop(i)\n",
        "      y.pop(i)\n",
        "\n",
        "    # Checking if there is one point in a no 90 degree line\n",
        "    # For X, check if exist a despicable point in an descendent Y and remove it.\n",
        "    if((x[i]>x[i-1]) and (x[i]<x[i+1]) and (y[i]<y[i-1]) and (y[i]>y[i+1])):\n",
        "      x.pop(i)\n",
        "      y.pop(i)  \n",
        "\n",
        "    if(i+1>=len(x)):\n",
        "      break\n",
        "\n",
        "  # Plotting graph\n",
        "  plt.plot(x,y, label=\"Line\",color=\"blue\")\n",
        "  plt.scatter(x,y,label=\"Point\",color=\"red\")\n",
        "  plt.legend()\n",
        "  plt.show()\n",
        "  return (x,y)\n"
      ],
      "metadata": {
        "id": "frPRyoAB-cfc"
      },
      "execution_count": 86,
      "outputs": []
    },
    {
      "cell_type": "code",
      "source": [
        "optmize(points)"
      ],
      "metadata": {
        "colab": {
          "base_uri": "https://localhost:8080/",
          "height": 282
        },
        "id": "CXd2movKEbnV",
        "outputId": "c14506f7-afcb-48ac-cc27-79acef011a92"
      },
      "execution_count": 88,
      "outputs": [
        {
          "output_type": "display_data",
          "data": {
            "image/png": "[encoded data removed]",
            "text/plain": [
              "<Figure size 432x288 with 1 Axes>"
            ]
          },
          "metadata": {
            "needs_background": "light"
          }
        },
        {
          "output_type": "execute_result",
          "data": {
            "text/plain": [
              "([1, 1, 1.5, 2, 2, 3, 3, 2, 2, 1], [1, 3, 3.5, 3, 4, 4, 2, 2, 1, 1])"
            ]
          },
          "metadata": {},
          "execution_count": 88
        }
      ]
    },
    {
      "cell_type": "code",
      "source": [
        "# With more complex points\n",
        "points = [(1, 1), (1, 2), (1, 3), (1.25, 3.25) ,(1.5,3.5), (1.75,3.25), (2, 3), (2, 4), (2.5,4) ,(3, 4), (3, 3), (3,2), (2,2), (2,1), (1,1)]"
      ],
      "metadata": {
        "id": "Kg7Ov3Cbms3V"
      },
      "execution_count": 78,
      "outputs": []
    },
    {
      "cell_type": "code",
      "source": [
        "######################### 2"
      ],
      "metadata": {
        "id": "yKxswMyEmzPX"
      },
      "execution_count": 89,
      "outputs": []
    },
    {
      "cell_type": "code",
      "source": [
        "string= \"(())\""
      ],
      "metadata": {
        "id": "8WgeMXESwwwT"
      },
      "execution_count": 140,
      "outputs": []
    },
    {
      "cell_type": "code",
      "source": [
        "# Check if the number of brackets is ok\n",
        "# Opening and closing brackets mean the same number of '(' and ')'\n",
        "string.count(\"(\")==string.count(\")\")"
      ],
      "metadata": {
        "colab": {
          "base_uri": "https://localhost:8080/"
        },
        "id": "p3suZvuyxlbn",
        "outputId": "2378cedc-a677-438b-ff4c-af725a604f52"
      },
      "execution_count": 113,
      "outputs": [
        {
          "output_type": "execute_result",
          "data": {
            "text/plain": [
              "True"
            ]
          },
          "metadata": {},
          "execution_count": 113
        }
      ]
    },
    {
      "cell_type": "markdown",
      "source": [
        "Problem 2: Incorrect syntax with brackets\n",
        "\n",
        "a) Given a string made of opening and closing brackets, how to check if its syntax is OK? \n",
        "\n",
        "Choose the language you want to answer this question, and comment the code \n",
        "explaining each step. Don’t worry about sintaxes.\n",
        "\n",
        "Examples: ()(()()) is correct, ()))) is not, )( is no"
      ],
      "metadata": {
        "id": "MIlA3NZT5IK6"
      }
    },
    {
      "cell_type": "markdown",
      "source": [
        "b) Follow-up questions (code needed, just explain what you would do)\n",
        "\n",
        "How would you do it with multiple bracket types (), {}, [], '', \"\n",
        "\n",
        "How to use that to correct real code syntax with not only brackets but letters, numbers \n",
        "etc? (e.g.: ((a) → (a) )\n",
        "\n",
        "How to use what has been done to output the correct syntax?\n",
        "\n",
        "How to develop a version of the algorithm that would output all possible valid strings?"
      ],
      "metadata": {
        "id": "bYEMXfk25NzX"
      }
    },
    {
      "cell_type": "code",
      "source": [
        "# OBS: I did it all just once\n",
        "# For 'a' problem you can:\n",
        "# remove Index Lists and the fixing if\n",
        "\n",
        "def checkSyntax(stringSyntax):\n",
        "  # Let's create some list which will be uselful\n",
        "  newString=list()\n",
        "  openList=list()\n",
        "  closeList=list()\n",
        "  openIndex=list()\n",
        "  closeIndex=list()\n",
        "\n",
        "  # By default the expression is not ok\n",
        "  ok=False\n",
        "\n",
        "  # Translating the string to a list to simplify\n",
        "  for i in range(0,len(stringSyntax)):\n",
        "    newString.append(stringSyntax[i])\n",
        "\n",
        "  # This for will check the char \n",
        "  for i in range(0,len(stringSyntax),1):\n",
        "\n",
        "    # When the char is a opening expression, it will be setted in openList,\n",
        "    # and its index setted in openIndex.\n",
        "    if(stringSyntax[i] in \"([{\"):\n",
        "      openList.append(stringSyntax[i])\n",
        "      openIndex.append(i)\n",
        "      if (len(openList)!=0):\n",
        "            ok=False\n",
        "\n",
        "    # When the char is a closing expression, it will be setted in closeList,\n",
        "    # and its index setted in closeIndex.\n",
        "    if (stringSyntax[i] in \")]}\"):\n",
        "      closeList.append(stringSyntax[i])\n",
        "      closeIndex.append(i)\n",
        "\n",
        "      # When exist some opening expression, the if checks its closing, \n",
        "      # then, with a close, delete the aux variables in that position.\n",
        "      if  (len(openList)!=0):\n",
        "        if (stringSyntax[i]==\")\") and (openList[-1]==\"(\"):\n",
        "          openList.pop()\n",
        "          closeList.pop()\n",
        "          openIndex.pop()\n",
        "          closeIndex.pop()\n",
        "          ok=True\n",
        "        if (stringSyntax[i]==\"]\") and (openList[-1]==\"[\"):\n",
        "          openList.pop()\n",
        "          closeList.pop()\n",
        "          openIndex.pop()\n",
        "          closeIndex.pop()\n",
        "          ok=True\n",
        "        if (stringSyntax[i]==\"}\") and (openList[-1]==\"{\"):\n",
        "          openList.pop()\n",
        "          closeList.pop()\n",
        "          openIndex.pop()\n",
        "          closeIndex.pop()\n",
        "          ok=True\n",
        "  \n",
        "  # When exist a invalid missings expression, it must be setted as False\n",
        "  if (len(openList)!=0) or (len(closeList)!=0):\n",
        "        ok=False\n",
        "\n",
        "  # When ok is equal to false, we can delet the invalid expression.\n",
        "  # A possible way to fix the problem.\n",
        "  if (ok==False):\n",
        "    for i in range(0,len(openIndex)):\n",
        "      newString[openIndex[i]]=\"\"\n",
        "\n",
        "    for i in range(0,len(closeIndex)):\n",
        "      newString[closeIndex[i]]=\"\"\n",
        "\n",
        "  # return the initial validity of syntax and the new string\n",
        "  return ok,\"\".join(newString)"
      ],
      "metadata": {
        "id": "hjHG-YBqxu4S"
      },
      "execution_count": 432,
      "outputs": []
    },
    {
      "cell_type": "code",
      "source": [
        "checkSyntax(\"()]\")"
      ],
      "metadata": {
        "colab": {
          "base_uri": "https://localhost:8080/"
        },
        "id": "PL7KedvoDAMQ",
        "outputId": "86d3c874-51df-442c-f6cc-21b1bc3c5725"
      },
      "execution_count": 434,
      "outputs": [
        {
          "output_type": "execute_result",
          "data": {
            "text/plain": [
              "(False, '()')"
            ]
          },
          "metadata": {},
          "execution_count": 434
        }
      ]
    },
    {
      "cell_type": "markdown",
      "source": [
        "Problem 3: Cloud Architecture \n",
        "\n",
        "Briefly list, in a structured way, the advantages and disadvantages of:\n",
        "- Cloud architecture (AWS, GCP, Azure, etc)\n",
        "- On premise architecture (physical servers)"
      ],
      "metadata": {
        "id": "E02X8seG6Lhu"
      }
    },
    {
      "cell_type": "markdown",
      "source": [
        "Currently i am not acquainted with cloud architecture/computing yet, but i will try to answer."
      ],
      "metadata": {
        "id": "jI1mFalc6ro3"
      }
    },
    {
      "cell_type": "markdown",
      "source": [
        "- Cloud architecture\n",
        "  - Advantages:\n",
        "    - Less infrastructure cost (e.x.: pay per use)\n",
        "    - Less server management\n",
        "  - Disadvantages\n",
        "    - Less control over security\n",
        "    - Require a relative high speed internet\n",
        "\n",
        "- Premise architecture\n",
        "  - Advantages:\n",
        "    - More control over security and infrastructure\n",
        "    - Require less speed conection\n",
        "  - Disadvantages\n",
        "    - More costs in server management\n",
        "    - More costs in infrastructure\n"
      ],
      "metadata": {
        "id": "cq4iYcRW6-hm"
      }
    },
    {
      "cell_type": "code",
      "source": [
        ""
      ],
      "metadata": {
        "id": "pHBj1Y6s6985"
      },
      "execution_count": null,
      "outputs": []
    }
  ]
}