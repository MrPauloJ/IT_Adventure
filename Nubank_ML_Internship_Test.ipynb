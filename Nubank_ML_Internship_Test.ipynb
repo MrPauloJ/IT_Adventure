{
  "nbformat": 4,
  "nbformat_minor": 0,
  "metadata": {
    "colab": {
      "name": "Nubank-ML-Internship-Test.ipynb",
      "provenance": [],
      "collapsed_sections": []
    },
    "kernelspec": {
      "name": "python3",
      "display_name": "Python 3"
    },
    "language_info": {
      "name": "python"
    }
  },
  "cells": [
    {
      "cell_type": "code",
      "execution_count": 1,
      "metadata": {
        "id": "PiQau_-88Nsw"
      },
      "outputs": [],
      "source": [
        "# Nubank, Machine Learning Internship - Code Challenge\n",
        "# Taker: Paulo Francisco da Silva Junior"
      ]
    },
    {
      "cell_type": "markdown",
      "source": [
        "A função recebe n, o tamanho máximo de caracteres que o número pode ter, e deve retornar a quantidade de combinações possíveis. OBS: n deve estar entre 1 e 55, inclusive.\n"
      ],
      "metadata": {
        "id": "XuoFTiap_8OC"
      }
    },
    {
      "cell_type": "code",
      "source": [
        "def num_model_ids(n):\n",
        "    # Write your code here\n",
        "    if((n<1) or (n>55)):\n",
        "        print(\"Enter a number between 1 and 55 !\")\n",
        "    else:\n",
        "        return sum([2**x for x in range(1,n+1)])\n",
        "\n",
        "num_model_ids(2)"
      ],
      "metadata": {
        "colab": {
          "base_uri": "https://localhost:8080/"
        },
        "id": "W3xFj0W-_ysR",
        "outputId": "f0717edc-a372-4ef0-a2a6-f7b9b1d1fef5"
      },
      "execution_count": 2,
      "outputs": [
        {
          "output_type": "execute_result",
          "data": {
            "text/plain": [
              "6"
            ]
          },
          "metadata": {},
          "execution_count": 2
        }
      ]
    },
    {
      "cell_type": "markdown",
      "source": [
        "A função recebe um array com números repetidos. Caso o número repetido seja maior ou igual a n/2 o retorno deve ser o número, caso contrário, retorna -1.\n",
        "OBS: O tamanho do array deve estar entre 1 e  10**5, inclusive. Para que seja retornado, o número do array deve "
      ],
      "metadata": {
        "id": "pne9KqjsTBho"
      }
    },
    {
      "cell_type": "code",
      "source": [
        "def elemento_principal(arr):\n",
        "    # Write your code here\n",
        "    if(len(arr)>=1 and len(arr)<=10**5):\n",
        "        for i in range(0,len(arr)):\n",
        "            if arr.count(arr[i])>=round(len(arr)/2,0):\n",
        "                if(arr[i]>=1 and arr[i]<=10**9):\n",
        "                    return arr[i]\n",
        "        else:\n",
        "            return -1\n",
        "\n",
        "elemento_principal([1,2,3,3,3])\n",
        "\n",
        "# O algoritimo consegue calcular em até 10s apenas 10**4.35\n",
        "# 10/12 testes concluidos; 2 testes fechados resultaram em:\n",
        "# Time limit exceeded\n",
        "# Allowed time limit:10 secs\n",
        "# Your code did not execute in time. Please optimize your code. For more details on runtime environment, click the “Info” button"
      ],
      "metadata": {
        "colab": {
          "base_uri": "https://localhost:8080/"
        },
        "id": "C2FSHBDYBpsM",
        "outputId": "f54c0647-499a-42fc-bfa2-8e7e1d5f77e1"
      },
      "execution_count": 3,
      "outputs": [
        {
          "output_type": "execute_result",
          "data": {
            "text/plain": [
              "3"
            ]
          },
          "metadata": {},
          "execution_count": 3
        }
      ]
    },
    {
      "cell_type": "markdown",
      "source": [
        "A função recebe uma frase em inglês. Os sufixos \"ed\", \"ly\" ou \"ing\" serão removidos quando houver. Além do mais, se o tamanho da palavra for maior que 8, após as remoções, será deixado apenas os 8 primeiros caracteres. "
      ],
      "metadata": {
        "id": "JyHspuoGdAvQ"
      }
    },
    {
      "cell_type": "code",
      "source": [
        "def stemmer(text):\n",
        "    # Write your code here\n",
        "    funil = text.split(\" \")\n",
        "    for i in range(0,len(funil)):\n",
        "      if funil[i].endswith(\"ed\"):\n",
        "        funil[funil.index(funil[i])] = funil[i][:len(funil[i])-2]\n",
        "      if funil[i].endswith(\"ly\"):\n",
        "        funil[funil.index(funil[i])] = funil[i][:len(funil[i])-2]\n",
        "      if funil[i].endswith(\"ing\"):\n",
        "        funil[funil.index(funil[i])] = funil[i][:len(funil[i])-3]\n",
        "      if(len(funil[i])>8):\n",
        "        try:\n",
        "          funil[funil.index(funil[i])] = funil[i][:8]\n",
        "        except:\n",
        "          print(\"error\")\n",
        "\n",
        "    return \" \".join(funil)\n",
        "\n",
        "stemmer(\"an extremely dangerous dog is barking\")"
      ],
      "metadata": {
        "colab": {
          "base_uri": "https://localhost:8080/",
          "height": 36
        },
        "id": "ChZbAfLFHJ7z",
        "outputId": "59681505-fbbb-43b1-c0a5-db8f348f6afd"
      },
      "execution_count": 4,
      "outputs": [
        {
          "output_type": "execute_result",
          "data": {
            "text/plain": [
              "'an extreme dangerou dog is bark'"
            ],
            "application/vnd.google.colaboratory.intrinsic+json": {
              "type": "string"
            }
          },
          "metadata": {},
          "execution_count": 4
        }
      ]
    },
    {
      "cell_type": "code",
      "source": [
        ""
      ],
      "metadata": {
        "id": "EInW0c-RfTiH"
      },
      "execution_count": null,
      "outputs": []
    }
  ]
}