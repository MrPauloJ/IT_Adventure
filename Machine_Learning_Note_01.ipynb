{
  "nbformat": 4,
  "nbformat_minor": 0,
  "metadata": {
    "colab": {
      "name": "ML01.ipynb",
      "provenance": [],
      "collapsed_sections": []
    },
    "kernelspec": {
      "name": "python3",
      "display_name": "Python 3"
    },
    "language_info": {
      "name": "python"
    }
  },
  "cells": [
    {
      "cell_type": "code",
      "source": [
        "# Adventures on Machine Learning (1)\n",
        "# Handling with text and forecasting\n",
        "# by Paulo Francisco da Silva Junior"
      ],
      "metadata": {
        "id": "IfpTYhl9FxWK"
      },
      "execution_count": null,
      "outputs": []
    },
    {
      "cell_type": "code",
      "metadata": {
        "id": "ZqqtGsbA1feF"
      },
      "source": [
        "#Importações\n",
        "from sklearn.feature_extraction.text import CountVectorizer\n",
        "from sklearn.feature_extraction.text import TfidfTransformer\n",
        "from sklearn.pipeline import Pipeline\n",
        "from sklearn.naive_bayes import MultinomialNB\n",
        "from sklearn.model_selection import GridSearchCV\n",
        "import numpy as np"
      ],
      "execution_count": null,
      "outputs": []
    },
    {
      "cell_type": "code",
      "metadata": {
        "id": "8qYuaRvf4DFW"
      },
      "source": [
        "#Montando base de dados na mão\n",
        "#Para importar, verificar comando load_files do sklearn\n",
        "treinamento = {'data':[\n",
        "     'Futebol é interessante',\n",
        "     'adrenalina pura na luta',\n",
        "     'parece box com lutadores loucos para vencer',\n",
        "     'mas prefiro hacking',\n",
        "     'viagen neural',\n",
        "     'jogando bola'\n",
        "     ],\n",
        "     'target_name':[\n",
        "                     \"futebol\",\n",
        "                     \"luta\",\n",
        "                     \"luta\",\n",
        "                     \"computação\",\n",
        "                     \"computação\",\n",
        "                     \"futebol\"\n",
        "     ],\n",
        "     \"target\":[0,1,1,2,2,0]}\n",
        "validacao = {\"data\":[\n",
        "              'Hacking é computação',\n",
        "              'hackear o mundo faz parte de todo ciêntista',\n",
        "              'volei é diferente do futebol',\n",
        "              'box é uma luta'],\n",
        "     'target_name':[\n",
        "                     \"computação\",\n",
        "                     \"computação\",\n",
        "                     \"futebol\",\n",
        "                     \"luta\"],\n",
        "     \"target\":[2,2,0,1]}"
      ],
      "execution_count": null,
      "outputs": []
    },
    {
      "cell_type": "code",
      "metadata": {
        "id": "-Lqn1kWR1vYp"
      },
      "source": [
        "#Criando um dicionario da base (irrelevante)\n",
        "cache = dict(train=treinamento,test=validacao)"
      ],
      "execution_count": null,
      "outputs": []
    },
    {
      "cell_type": "code",
      "metadata": {
        "colab": {
          "base_uri": "https://localhost:8080/"
        },
        "id": "SLy5YeAmg6So",
        "outputId": "c46d6da5-78fa-4432-be43-a5f79405c642"
      },
      "source": [
        "cache[\"train\"]"
      ],
      "execution_count": null,
      "outputs": [
        {
          "output_type": "execute_result",
          "data": {
            "text/plain": [
              "{'data': ['Futebol é interessante',\n",
              "  'adrenalina pura na luta',\n",
              "  'parece box com lutadores loucos para vencer',\n",
              "  'mas prefiro hacking',\n",
              "  'viagen neural',\n",
              "  'jogando bola'],\n",
              " 'target': [0, 1, 1, 2, 2, 0],\n",
              " 'target_name': ['futebol',\n",
              "  'luta',\n",
              "  'luta',\n",
              "  'computação',\n",
              "  'computação',\n",
              "  'futebol']}"
            ]
          },
          "metadata": {
            "tags": []
          },
          "execution_count": 6
        }
      ]
    },
    {
      "cell_type": "code",
      "metadata": {
        "id": "m49-YmYa1xiM"
      },
      "source": [
        "#Como utilizar esse dicionário por chaves\n",
        "cache['train']['data'][0]\n",
        "#Anexando parte do dicionario ao uma variável separada\n",
        "treinamentoData=cache[\"train\"]\n",
        "validacaoData=cache[\"test\"]"
      ],
      "execution_count": null,
      "outputs": []
    },
    {
      "cell_type": "code",
      "metadata": {
        "colab": {
          "base_uri": "https://localhost:8080/"
        },
        "id": "yD7mXZbcCdoK",
        "outputId": "99aa39fe-a426-4715-9965-897e72a3f4ee"
      },
      "source": [
        "treinamentoData[\"target\"] #Verificando os \"alvos\", respostas corretas"
      ],
      "execution_count": null,
      "outputs": [
        {
          "output_type": "execute_result",
          "data": {
            "text/plain": [
              "[0, 1, 1, 2, 2, 0]"
            ]
          },
          "metadata": {
            "tags": []
          },
          "execution_count": 15
        }
      ]
    },
    {
      "cell_type": "code",
      "metadata": {
        "id": "A23nld-P4nsl"
      },
      "source": [
        "vetorizarPalavras=CountVectorizer(ngram_range=(1,1)) #criando instância do obj"
      ],
      "execution_count": null,
      "outputs": []
    },
    {
      "cell_type": "code",
      "metadata": {
        "id": "EhYN20U4138g"
      },
      "source": [
        "cxt=vetorizarPalavras.fit_transform(treinamentoData[\"data\"]) #Vetorizando palavras, colocando todas palavras (sem repetições caso ngram=(1,1)) num vetor. "
      ],
      "execution_count": null,
      "outputs": []
    },
    {
      "cell_type": "code",
      "metadata": {
        "colab": {
          "base_uri": "https://localhost:8080/"
        },
        "id": "vSM-Tk5BhnUW",
        "outputId": "82865735-a536-405a-fe1e-a6699ee405c4"
      },
      "source": [
        "vetorizarPalavras.get_feature_names()"
      ],
      "execution_count": null,
      "outputs": [
        {
          "output_type": "execute_result",
          "data": {
            "text/plain": [
              "['adrenalina',\n",
              " 'bola',\n",
              " 'box',\n",
              " 'com',\n",
              " 'futebol',\n",
              " 'hacking',\n",
              " 'interessante',\n",
              " 'jogando',\n",
              " 'loucos',\n",
              " 'luta',\n",
              " 'lutadores',\n",
              " 'mas',\n",
              " 'na',\n",
              " 'neural',\n",
              " 'para',\n",
              " 'parece',\n",
              " 'prefiro',\n",
              " 'pura',\n",
              " 'vencer',\n",
              " 'viagen']"
            ]
          },
          "metadata": {
            "tags": []
          },
          "execution_count": 24
        }
      ]
    },
    {
      "cell_type": "code",
      "metadata": {
        "colab": {
          "base_uri": "https://localhost:8080/"
        },
        "id": "FtNcJUI4h1n-",
        "outputId": "4d8bf4ce-5b1c-4c9f-df03-2a97ffdd564d"
      },
      "source": [
        ""
      ],
      "execution_count": null,
      "outputs": [
        {
          "output_type": "stream",
          "text": [
            "CountVectorizer(analyzer='word', binary=False, decode_error='strict',\n",
            "                dtype=<class 'numpy.int64'>, encoding='utf-8', input='content',\n",
            "                lowercase=True, max_df=1.0, max_features=None, min_df=1,\n",
            "                ngram_range=(1, 1), preprocessor=None, stop_words=None,\n",
            "                strip_accents=None, token_pattern='(?u)\\\\b\\\\w\\\\w+\\\\b',\n",
            "                tokenizer=None, vocabulary=None)\n"
          ],
          "name": "stdout"
        }
      ]
    },
    {
      "cell_type": "code",
      "metadata": {
        "id": "_voe6i6J167O"
      },
      "source": [
        "tfidtransformation=TfidfTransformer() #criando instância do obj"
      ],
      "execution_count": null,
      "outputs": []
    },
    {
      "cell_type": "code",
      "metadata": {
        "id": "qyvNfIg3lCk1"
      },
      "source": [
        ""
      ],
      "execution_count": null,
      "outputs": []
    },
    {
      "cell_type": "code",
      "metadata": {
        "id": "35c7tMM9F-cK"
      },
      "source": [
        "cxtTFID= tfidtransformation.fit_transform(cxt) #Transforma uma matriz de contagem em uma representação de frequência de termo"
      ],
      "execution_count": null,
      "outputs": []
    },
    {
      "cell_type": "code",
      "metadata": {
        "id": "PzJLCmEDGP5e"
      },
      "source": [
        "cxt = vetorizarPalavras.fit_transform(treinamentoData[\"data\"]) #Vetorizando as palavras novamente"
      ],
      "execution_count": null,
      "outputs": []
    },
    {
      "cell_type": "code",
      "metadata": {
        "id": "ftWddWeTGroG"
      },
      "source": [
        " #criação do modelo\n",
        " #Pipeline -> construtor\n",
        " #Parametros através de [()] -> tuplas dentro de lista\n",
        " #Tuplas seguem o seguinte formato -> (\"nome arbitrário da etapa\",função_parametro_modelo(args))\n",
        " #Especificações desse modelo -> Palavras vetorizadas (1,1), Frequência de palavras ajustadas (idf=false), não saber probabilidades (MultinomialNB(fit_prior=False)) \n",
        "modelo = Pipeline([(\"vetorWord\",CountVectorizer(ngram_range=(1,1),max_df=(0.75))),(\"tfd\",TfidfTransformer(use_idf=False)),(\"ctf\", MultinomialNB(fit_prior=False))])"
      ],
      "execution_count": null,
      "outputs": []
    },
    {
      "cell_type": "code",
      "metadata": {
        "colab": {
          "base_uri": "https://localhost:8080/"
        },
        "id": "_UJ0fYj-I18Z",
        "outputId": "ace639a7-39c0-4f6f-c3c6-2fedefad7d53"
      },
      "source": [
        "#Aprendizado da maquina\n",
        "#OBS: Dados de treinamento\n",
        "modelo.fit(treinamentoData[\"data\"],treinamentoData[\"target\"])"
      ],
      "execution_count": null,
      "outputs": [
        {
          "output_type": "execute_result",
          "data": {
            "text/plain": [
              "Pipeline(memory=None,\n",
              "         steps=[('vetorWord',\n",
              "                 CountVectorizer(analyzer='word', binary=False,\n",
              "                                 decode_error='strict',\n",
              "                                 dtype=<class 'numpy.int64'>, encoding='utf-8',\n",
              "                                 input='content', lowercase=True, max_df=0.75,\n",
              "                                 max_features=None, min_df=1,\n",
              "                                 ngram_range=(1, 1), preprocessor=None,\n",
              "                                 stop_words=None, strip_accents=None,\n",
              "                                 token_pattern='(?u)\\\\b\\\\w\\\\w+\\\\b',\n",
              "                                 tokenizer=None, vocabulary=None)),\n",
              "                ('tfd',\n",
              "                 TfidfTransformer(norm='l2', smooth_idf=True,\n",
              "                                  sublinear_tf=False, use_idf=False)),\n",
              "                ('ctf',\n",
              "                 MultinomialNB(alpha=1.0, class_prior=None, fit_prior=False))],\n",
              "         verbose=False)"
            ]
          },
          "metadata": {
            "tags": []
          },
          "execution_count": 29
        }
      ]
    },
    {
      "cell_type": "code",
      "metadata": {
        "id": "qCB9aQ34JAUz"
      },
      "source": [
        "#Validando predição dos dados\n",
        "prever = modelo.predict(validacaoData[\"data\"])"
      ],
      "execution_count": null,
      "outputs": []
    },
    {
      "cell_type": "code",
      "metadata": {
        "colab": {
          "base_uri": "https://localhost:8080/"
        },
        "id": "wLXICZTNJANS",
        "outputId": "0583f97d-7897-46ee-fcc1-295ce041aecf"
      },
      "source": [
        "prever #Obtendo resposta da previsão do modelo"
      ],
      "execution_count": null,
      "outputs": [
        {
          "output_type": "execute_result",
          "data": {
            "text/plain": [
              "array([2, 0, 0, 1])"
            ]
          },
          "metadata": {
            "tags": []
          },
          "execution_count": 31
        }
      ]
    },
    {
      "cell_type": "code",
      "metadata": {
        "colab": {
          "base_uri": "https://localhost:8080/"
        },
        "id": "rsV3lNISJADM",
        "outputId": "c29ead93-99af-4db6-cef1-9f5484a7219f"
      },
      "source": [
        "validacaoData[\"target\"] #Resgatando as respostas corretas da previsão"
      ],
      "execution_count": null,
      "outputs": [
        {
          "output_type": "execute_result",
          "data": {
            "text/plain": [
              "[2, 2, 0, 1]"
            ]
          },
          "metadata": {
            "tags": []
          },
          "execution_count": 32
        }
      ]
    },
    {
      "cell_type": "code",
      "metadata": {
        "colab": {
          "base_uri": "https://localhost:8080/"
        },
        "id": "CRC29L5CLso8",
        "outputId": "9dbd86bb-d284-48d5-843b-c02f792e6def"
      },
      "source": [
        "prever == validacaoData[\"target\"] #Comparando os resultados da previsão com a base de validação"
      ],
      "execution_count": null,
      "outputs": [
        {
          "output_type": "execute_result",
          "data": {
            "text/plain": [
              "array([ True, False,  True,  True])"
            ]
          },
          "metadata": {
            "tags": []
          },
          "execution_count": 33
        }
      ]
    },
    {
      "cell_type": "code",
      "metadata": {
        "colab": {
          "base_uri": "https://localhost:8080/"
        },
        "id": "FjidZ9XPL2VW",
        "outputId": "be082796-2596-4c2c-ee90-4d84d60468e3"
      },
      "source": [
        "np.mean(prever==validacaoData[\"target\"]) #Média de probabilidade da comparação"
      ],
      "execution_count": null,
      "outputs": [
        {
          "output_type": "execute_result",
          "data": {
            "text/plain": [
              "0.75"
            ]
          },
          "metadata": {
            "tags": []
          },
          "execution_count": 34
        }
      ]
    },
    {
      "cell_type": "code",
      "metadata": {
        "id": "c5LNloKiMGAP"
      },
      "source": [
        "#GridSearchCv -> Pesquisa exaustiva sobre valores de parâmetro especificados para um estimador.\n",
        "#Modelo deve ser passado, assim como possíveis parametros, n_job->nº processadores\n",
        "#cv -> numero de \"dobras\" de aprendizado. cn < nº de grupos ou nº \n",
        "#parametros como -> nomeIntânciaModelo__parametromodelo\n",
        "parametros ={\"vetorWord__ngram_range\":[(1,1),(1,2),(2,2),(2,3),(3,3)],\"vetorWord__max_df\":(0.25,0.5,0.75,0.9),'tfd__use_idf': (True, False),\"ctf__fit_prior\":(True,False)}\n",
        "gr=GridSearchCV(modelo, parametros,n_jobs=2,cv=2)"
      ],
      "execution_count": null,
      "outputs": []
    },
    {
      "cell_type": "code",
      "metadata": {
        "id": "nC4R8FPfR32y"
      },
      "source": [
        "#Realizando previsão dos melhores parametros\n",
        "modelo_novo = gr.fit(treinamentoData[\"data\"], treinamentoData[\"target\"])"
      ],
      "execution_count": null,
      "outputs": []
    },
    {
      "cell_type": "code",
      "metadata": {
        "colab": {
          "base_uri": "https://localhost:8080/"
        },
        "id": "BdBUuZrfSgAC",
        "outputId": "9f8eec8a-d317-4976-cdc2-8bedb6d6550d"
      },
      "source": [
        "#Melhor previsão do modelo\n",
        "#Note que são varias interações, varios parametros sendo testados\n",
        "gr.best_score_"
      ],
      "execution_count": null,
      "outputs": [
        {
          "output_type": "execute_result",
          "data": {
            "text/plain": [
              "0.3333333333333333"
            ]
          },
          "metadata": {
            "tags": []
          },
          "execution_count": 37
        }
      ]
    },
    {
      "cell_type": "code",
      "metadata": {
        "colab": {
          "base_uri": "https://localhost:8080/"
        },
        "id": "5DckQW3DbwFr",
        "outputId": "e14b5bc9-8cb5-4e7b-b7b4-cf19ea8515bb"
      },
      "source": [
        "#Melhores parametros do modelo\n",
        "gr.best_params_"
      ],
      "execution_count": null,
      "outputs": [
        {
          "output_type": "execute_result",
          "data": {
            "text/plain": [
              "{'ctf__fit_prior': True,\n",
              " 'tfd__use_idf': True,\n",
              " 'vetorWord__max_df': 0.5,\n",
              " 'vetorWord__ngram_range': (1, 1)}"
            ]
          },
          "metadata": {
            "tags": []
          },
          "execution_count": 38
        }
      ]
    },
    {
      "cell_type": "code",
      "metadata": {
        "colab": {
          "base_uri": "https://localhost:8080/"
        },
        "id": "97JDftuEcMUn",
        "outputId": "aa98f0c0-b613-4356-efe1-552a94d361e4"
      },
      "source": [
        "#Prevendo através do novo modelo\n",
        "previstogr = gr.predict(validacaoData[\"data\"])\n",
        "previstogr"
      ],
      "execution_count": null,
      "outputs": [
        {
          "output_type": "execute_result",
          "data": {
            "text/plain": [
              "array([2, 0, 0, 1])"
            ]
          },
          "metadata": {
            "tags": []
          },
          "execution_count": 39
        }
      ]
    },
    {
      "cell_type": "code",
      "metadata": {
        "colab": {
          "base_uri": "https://localhost:8080/"
        },
        "id": "Vl4EkalpfAwH",
        "outputId": "f8d99339-e1e2-4b23-9c4d-d9c22adf7662"
      },
      "source": [
        "#Comparando modelos (bool)\n",
        "validacaoData[\"target\"]==previstogr"
      ],
      "execution_count": null,
      "outputs": [
        {
          "output_type": "execute_result",
          "data": {
            "text/plain": [
              "array([ True, False,  True,  True])"
            ]
          },
          "metadata": {
            "tags": []
          },
          "execution_count": 40
        }
      ]
    },
    {
      "cell_type": "code",
      "metadata": {
        "colab": {
          "base_uri": "https://localhost:8080/"
        },
        "id": "utZUNUlSfbde",
        "outputId": "18ead53e-0464-4c87-9541-110cbfe190c7"
      },
      "source": [
        "#Taxa de acerto (média das probabilidades)\n",
        "np.mean(validacaoData['target']==previstogr)"
      ],
      "execution_count": null,
      "outputs": [
        {
          "output_type": "execute_result",
          "data": {
            "text/plain": [
              "0.75"
            ]
          },
          "metadata": {
            "tags": []
          },
          "execution_count": 41
        }
      ]
    },
    {
      "cell_type": "code",
      "metadata": {
        "id": "gB_4lIJqfhgm"
      },
      "source": [
        "nunes_teste = {\"data\":[\n",
        "                       \"magrão é um ótimo goleiro\",\n",
        "                       \"eu gosto de derrubar e bater\",\n",
        "                       \"apostar corrida de cavalo da dinheiro\",\n",
        "                       \"eu sou apostador compulsivo\",\n",
        "                       \"eu amo a sua vida\",\n",
        "                       \"como posso ser seu amigo cara?\"\n",
        "  ],\"target_name\":[\"futebol\",\"luta\", \"sorte\",\"sorte\",\"homosexual\",\"homosexual\"], \"target\":[0,1,2,2,3,3]\n",
        "}\n",
        "nunes_treinamento = {\"data\":\n",
        "                    [\"\"]\n",
        "                     }"
      ],
      "execution_count": null,
      "outputs": []
    }
  ]
}